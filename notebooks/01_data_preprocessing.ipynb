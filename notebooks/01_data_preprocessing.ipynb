{
 "cells": [
  {
   "cell_type": "code",
   "execution_count": 9,
   "id": "37f7f17e",
   "metadata": {},
   "outputs": [],
   "source": [
    "import pandas as pd"
   ]
  },
  {
   "cell_type": "code",
   "execution_count": 10,
   "id": "e5088ad2",
   "metadata": {},
   "outputs": [],
   "source": [
    "def preprocess_air_quality(file_path):\n",
    "    # Load the dataset\n",
    "    df = pd.read_csv(file_path)\n",
    "    \n",
    "    # Clean column names\n",
    "    df.columns = df.columns.str.strip()\n",
    "    \n",
    "    # Convert date column to datetime format\n",
    "    df[\"date\"] = pd.to_datetime(df[\"date\"], format=\"%d-%m-%Y\")\n",
    "    \n",
    "    # Convert pollutant columns to numeric\n",
    "    pollutants = [\"pm25\", \"pm10\", \"o3\", \"no2\", \"so2\", \"co\"]\n",
    "    df[pollutants] = df[pollutants].apply(pd.to_numeric, errors=\"coerce\")\n",
    "    \n",
    "    # Handle missing values using forward fill\n",
    "    df.fillna(method='ffill', inplace=True)\n",
    "    \n",
    "    # Define AQI calculation function\n",
    "    def calculate_aqi(pm25, pm10, o3, no2, so2, co):\n",
    "        # Using the worst-case approach: AQI is determined by the highest individual sub-index\n",
    "        aqi_values = {\n",
    "            'pm25': [0, 30, 60, 90, 120, 250],\n",
    "            'pm10': [0, 50, 100, 250, 350, 430],\n",
    "            'o3': [0, 50, 100, 168, 208, 748],\n",
    "            'no2': [0, 40, 80, 180, 280, 400],\n",
    "            'so2': [0, 40, 80, 380, 800, 1600],\n",
    "            'co': [0, 1, 2, 10, 17, 34]\n",
    "        }\n",
    "        \n",
    "        aqi_sub_indices = []\n",
    "        for pollutant, breakpoints in aqi_values.items():\n",
    "            value = locals()[pollutant]\n",
    "            for i in range(len(breakpoints) - 1):\n",
    "                if breakpoints[i] <= value < breakpoints[i+1]:\n",
    "                    aqi_sub_index = ((value - breakpoints[i]) / (breakpoints[i+1] - breakpoints[i])) * 100\n",
    "                    aqi_sub_indices.append(aqi_sub_index)\n",
    "                    break\n",
    "        \n",
    "        return max(aqi_sub_indices) if aqi_sub_indices else None\n",
    "    \n",
    "    # Calculate AQI for each row\n",
    "    df['aqi'] = df.apply(lambda row: calculate_aqi(row['pm25'], row['pm10'], row['o3'], row['no2'], row['so2'], row['co']), axis=1)\n",
    "    \n",
    "    # Reorder columns to have 'date' first\n",
    "    df = df[['date', 'pm25', 'pm10', 'o3', 'no2', 'so2', 'co', 'aqi']]\n",
    "    \n",
    "    return df\n"
   ]
  },
  {
   "cell_type": "code",
   "execution_count": 11,
   "id": "14570a8b",
   "metadata": {},
   "outputs": [],
   "source": [
    "# File path\n",
    "file_path = \"maninagar_ahmedabad_air_quality_csv.csv\""
   ]
  },
  {
   "cell_type": "code",
   "execution_count": 12,
   "id": "3a011197",
   "metadata": {},
   "outputs": [],
   "source": [
    "# Preprocess the data\n",
    "df_cleaned = preprocess_air_quality(file_path)"
   ]
  },
  {
   "cell_type": "code",
   "execution_count": 13,
   "id": "77df8d9e",
   "metadata": {},
   "outputs": [
    {
     "data": {
      "text/html": [
       "<div>\n",
       "<style scoped>\n",
       "    .dataframe tbody tr th:only-of-type {\n",
       "        vertical-align: middle;\n",
       "    }\n",
       "\n",
       "    .dataframe tbody tr th {\n",
       "        vertical-align: top;\n",
       "    }\n",
       "\n",
       "    .dataframe thead th {\n",
       "        text-align: right;\n",
       "    }\n",
       "</style>\n",
       "<table border=\"1\" class=\"dataframe\">\n",
       "  <thead>\n",
       "    <tr style=\"text-align: right;\">\n",
       "      <th></th>\n",
       "      <th>date</th>\n",
       "      <th>pm25</th>\n",
       "      <th>pm10</th>\n",
       "      <th>o3</th>\n",
       "      <th>no2</th>\n",
       "      <th>so2</th>\n",
       "      <th>co</th>\n",
       "      <th>aqi</th>\n",
       "    </tr>\n",
       "  </thead>\n",
       "  <tbody>\n",
       "    <tr>\n",
       "      <th>0</th>\n",
       "      <td>2025-02-01</td>\n",
       "      <td>65.0</td>\n",
       "      <td>91.0</td>\n",
       "      <td>11.0</td>\n",
       "      <td>11.0</td>\n",
       "      <td>14.0</td>\n",
       "      <td>4.0</td>\n",
       "      <td>82.000000</td>\n",
       "    </tr>\n",
       "    <tr>\n",
       "      <th>1</th>\n",
       "      <td>2025-02-02</td>\n",
       "      <td>95.0</td>\n",
       "      <td>100.0</td>\n",
       "      <td>14.0</td>\n",
       "      <td>10.0</td>\n",
       "      <td>13.0</td>\n",
       "      <td>4.0</td>\n",
       "      <td>32.500000</td>\n",
       "    </tr>\n",
       "    <tr>\n",
       "      <th>2</th>\n",
       "      <td>2025-02-03</td>\n",
       "      <td>113.0</td>\n",
       "      <td>82.0</td>\n",
       "      <td>9.0</td>\n",
       "      <td>11.0</td>\n",
       "      <td>15.0</td>\n",
       "      <td>4.0</td>\n",
       "      <td>76.666667</td>\n",
       "    </tr>\n",
       "    <tr>\n",
       "      <th>3</th>\n",
       "      <td>2025-02-04</td>\n",
       "      <td>98.0</td>\n",
       "      <td>63.0</td>\n",
       "      <td>7.0</td>\n",
       "      <td>10.0</td>\n",
       "      <td>5.0</td>\n",
       "      <td>4.0</td>\n",
       "      <td>26.666667</td>\n",
       "    </tr>\n",
       "    <tr>\n",
       "      <th>4</th>\n",
       "      <td>2025-02-05</td>\n",
       "      <td>45.0</td>\n",
       "      <td>76.0</td>\n",
       "      <td>8.0</td>\n",
       "      <td>10.0</td>\n",
       "      <td>12.0</td>\n",
       "      <td>3.0</td>\n",
       "      <td>52.000000</td>\n",
       "    </tr>\n",
       "  </tbody>\n",
       "</table>\n",
       "</div>"
      ],
      "text/plain": [
       "        date   pm25   pm10    o3   no2   so2   co        aqi\n",
       "0 2025-02-01   65.0   91.0  11.0  11.0  14.0  4.0  82.000000\n",
       "1 2025-02-02   95.0  100.0  14.0  10.0  13.0  4.0  32.500000\n",
       "2 2025-02-03  113.0   82.0   9.0  11.0  15.0  4.0  76.666667\n",
       "3 2025-02-04   98.0   63.0   7.0  10.0   5.0  4.0  26.666667\n",
       "4 2025-02-05   45.0   76.0   8.0  10.0  12.0  3.0  52.000000"
      ]
     },
     "execution_count": 13,
     "metadata": {},
     "output_type": "execute_result"
    }
   ],
   "source": [
    "# Display the cleaned dataset\n",
    "df_cleaned.head()"
   ]
  },
  {
   "cell_type": "code",
   "execution_count": 15,
   "id": "1a53116d",
   "metadata": {},
   "outputs": [
    {
     "data": {
      "text/html": [
       "<div>\n",
       "<style scoped>\n",
       "    .dataframe tbody tr th:only-of-type {\n",
       "        vertical-align: middle;\n",
       "    }\n",
       "\n",
       "    .dataframe tbody tr th {\n",
       "        vertical-align: top;\n",
       "    }\n",
       "\n",
       "    .dataframe thead th {\n",
       "        text-align: right;\n",
       "    }\n",
       "</style>\n",
       "<table border=\"1\" class=\"dataframe\">\n",
       "  <thead>\n",
       "    <tr style=\"text-align: right;\">\n",
       "      <th></th>\n",
       "      <th>date</th>\n",
       "      <th>pm25</th>\n",
       "      <th>pm10</th>\n",
       "      <th>o3</th>\n",
       "      <th>no2</th>\n",
       "      <th>so2</th>\n",
       "      <th>co</th>\n",
       "      <th>aqi</th>\n",
       "    </tr>\n",
       "  </thead>\n",
       "  <tbody>\n",
       "    <tr>\n",
       "      <th>2994</th>\n",
       "      <td>2017-10-17</td>\n",
       "      <td>130.0</td>\n",
       "      <td>93.0</td>\n",
       "      <td>22.0</td>\n",
       "      <td>59.0</td>\n",
       "      <td>41.0</td>\n",
       "      <td>2.0</td>\n",
       "      <td>86.0</td>\n",
       "    </tr>\n",
       "    <tr>\n",
       "      <th>2995</th>\n",
       "      <td>2016-07-13</td>\n",
       "      <td>130.0</td>\n",
       "      <td>93.0</td>\n",
       "      <td>22.0</td>\n",
       "      <td>45.0</td>\n",
       "      <td>27.0</td>\n",
       "      <td>10.0</td>\n",
       "      <td>86.0</td>\n",
       "    </tr>\n",
       "    <tr>\n",
       "      <th>2996</th>\n",
       "      <td>2016-07-24</td>\n",
       "      <td>130.0</td>\n",
       "      <td>93.0</td>\n",
       "      <td>22.0</td>\n",
       "      <td>43.0</td>\n",
       "      <td>27.0</td>\n",
       "      <td>10.0</td>\n",
       "      <td>86.0</td>\n",
       "    </tr>\n",
       "    <tr>\n",
       "      <th>2997</th>\n",
       "      <td>2015-11-02</td>\n",
       "      <td>130.0</td>\n",
       "      <td>93.0</td>\n",
       "      <td>22.0</td>\n",
       "      <td>11.0</td>\n",
       "      <td>20.0</td>\n",
       "      <td>9.0</td>\n",
       "      <td>87.5</td>\n",
       "    </tr>\n",
       "    <tr>\n",
       "      <th>2998</th>\n",
       "      <td>2014-12-25</td>\n",
       "      <td>130.0</td>\n",
       "      <td>93.0</td>\n",
       "      <td>22.0</td>\n",
       "      <td>72.0</td>\n",
       "      <td>63.0</td>\n",
       "      <td>88.0</td>\n",
       "      <td>86.0</td>\n",
       "    </tr>\n",
       "  </tbody>\n",
       "</table>\n",
       "</div>"
      ],
      "text/plain": [
       "           date   pm25  pm10    o3   no2   so2    co   aqi\n",
       "2994 2017-10-17  130.0  93.0  22.0  59.0  41.0   2.0  86.0\n",
       "2995 2016-07-13  130.0  93.0  22.0  45.0  27.0  10.0  86.0\n",
       "2996 2016-07-24  130.0  93.0  22.0  43.0  27.0  10.0  86.0\n",
       "2997 2015-11-02  130.0  93.0  22.0  11.0  20.0   9.0  87.5\n",
       "2998 2014-12-25  130.0  93.0  22.0  72.0  63.0  88.0  86.0"
      ]
     },
     "execution_count": 15,
     "metadata": {},
     "output_type": "execute_result"
    }
   ],
   "source": [
    "df_cleaned.tail()"
   ]
  },
  {
   "cell_type": "code",
   "execution_count": 16,
   "id": "c13637c9",
   "metadata": {},
   "outputs": [
    {
     "data": {
      "text/plain": [
       "date    0\n",
       "pm25    0\n",
       "pm10    0\n",
       "o3      0\n",
       "no2     0\n",
       "so2     0\n",
       "co      0\n",
       "aqi     0\n",
       "dtype: int64"
      ]
     },
     "execution_count": 16,
     "metadata": {},
     "output_type": "execute_result"
    }
   ],
   "source": [
    "df_cleaned.isnull().sum()"
   ]
  },
  {
   "cell_type": "code",
   "execution_count": 14,
   "id": "3402ee51",
   "metadata": {},
   "outputs": [
    {
     "name": "stdout",
     "output_type": "stream",
     "text": [
      "Cleaned dataset saved successfully in 'data/cleaned_air_quality_data.csv'\n"
     ]
    }
   ],
   "source": [
    "# Save cleaned dataset to CSV\n",
    "df_cleaned.to_csv(\"cleaned_air_quality_data.csv\", index=False)\n",
    "\n",
    "print(\"Cleaned dataset saved successfully in 'cleaned_air_quality_data.csv'\")\n"
   ]
  },
  {
   "cell_type": "code",
   "execution_count": null,
   "id": "223a2a8a",
   "metadata": {},
   "outputs": [],
   "source": []
  }
 ],
 "metadata": {
  "kernelspec": {
   "display_name": "Python 3 (ipykernel)",
   "language": "python",
   "name": "python3"
  },
  "language_info": {
   "codemirror_mode": {
    "name": "ipython",
    "version": 3
   },
   "file_extension": ".py",
   "mimetype": "text/x-python",
   "name": "python",
   "nbconvert_exporter": "python",
   "pygments_lexer": "ipython3",
   "version": "3.10.9"
  }
 },
 "nbformat": 4,
 "nbformat_minor": 5
}
