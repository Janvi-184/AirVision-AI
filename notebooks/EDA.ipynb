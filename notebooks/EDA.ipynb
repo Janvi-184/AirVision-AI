{
 "cells": [
  {
   "cell_type": "code",
   "execution_count": 41,
   "metadata": {},
   "outputs": [
    {
     "name": "stdout",
     "output_type": "stream",
     "text": [
      "CSV files merged successfully into Data/AQI/merged_output.csv\n"
     ]
    }
   ],
   "source": [
    "import pandas as pd\n",
    "import glob\n",
    "\n",
    "# Get all CSV files in the Data/AQI/ folder\n",
    "csv_files = glob.glob(\"Data/AQI/*.csv\")\n",
    "\n",
    "# Read and merge all CSV files\n",
    "df_list = [pd.read_csv(file) for file in csv_files]\n",
    "merged_df = pd.concat(df_list, ignore_index=True)\n",
    "\n",
    "# Save the merged DataFrame to a new CSV file\n",
    "merged_df.to_csv(\"Data/AQI/merged_output.csv\", index=False)\n",
    "\n",
    "print(\"CSV files merged successfully into Data/AQI/merged_output.csv\")\n"
   ]
  },
  {
   "cell_type": "code",
   "execution_count": 42,
   "metadata": {},
   "outputs": [],
   "source": [
    "df = merged_df"
   ]
  },
  {
   "cell_type": "code",
   "execution_count": 43,
   "metadata": {},
   "outputs": [
    {
     "data": {
      "text/html": [
       "<div>\n",
       "<style scoped>\n",
       "    .dataframe tbody tr th:only-of-type {\n",
       "        vertical-align: middle;\n",
       "    }\n",
       "\n",
       "    .dataframe tbody tr th {\n",
       "        vertical-align: top;\n",
       "    }\n",
       "\n",
       "    .dataframe thead th {\n",
       "        text-align: right;\n",
       "    }\n",
       "</style>\n",
       "<table border=\"1\" class=\"dataframe\">\n",
       "  <thead>\n",
       "    <tr style=\"text-align: right;\">\n",
       "      <th></th>\n",
       "      <th>Date</th>\n",
       "      <th>Time</th>\n",
       "      <th>PM2.5</th>\n",
       "      <th>PM2.5 AQI</th>\n",
       "    </tr>\n",
       "  </thead>\n",
       "  <tbody>\n",
       "    <tr>\n",
       "      <th>0</th>\n",
       "      <td>1/1/2013</td>\n",
       "      <td>1:00 AM</td>\n",
       "      <td>324.4</td>\n",
       "      <td>238</td>\n",
       "    </tr>\n",
       "    <tr>\n",
       "      <th>1</th>\n",
       "      <td>1/1/2013</td>\n",
       "      <td>2:00 AM</td>\n",
       "      <td>366.8</td>\n",
       "      <td>243</td>\n",
       "    </tr>\n",
       "    <tr>\n",
       "      <th>2</th>\n",
       "      <td>1/1/2013</td>\n",
       "      <td>3:00 AM</td>\n",
       "      <td>290.7</td>\n",
       "      <td>250</td>\n",
       "    </tr>\n",
       "    <tr>\n",
       "      <th>3</th>\n",
       "      <td>1/1/2013</td>\n",
       "      <td>4:00 AM</td>\n",
       "      <td>245.4</td>\n",
       "      <td>254</td>\n",
       "    </tr>\n",
       "    <tr>\n",
       "      <th>4</th>\n",
       "      <td>1/1/2013</td>\n",
       "      <td>5:00 AM</td>\n",
       "      <td>220.3</td>\n",
       "      <td>259</td>\n",
       "    </tr>\n",
       "  </tbody>\n",
       "</table>\n",
       "</div>"
      ],
      "text/plain": [
       "       Date     Time  PM2.5 PM2.5 AQI\n",
       "0  1/1/2013  1:00 AM  324.4       238\n",
       "1  1/1/2013  2:00 AM  366.8       243\n",
       "2  1/1/2013  3:00 AM  290.7       250\n",
       "3  1/1/2013  4:00 AM  245.4       254\n",
       "4  1/1/2013  5:00 AM  220.3       259"
      ]
     },
     "execution_count": 43,
     "metadata": {},
     "output_type": "execute_result"
    }
   ],
   "source": [
    "df.head()"
   ]
  },
  {
   "cell_type": "code",
   "execution_count": 44,
   "metadata": {},
   "outputs": [
    {
     "data": {
      "text/html": [
       "<div>\n",
       "<style scoped>\n",
       "    .dataframe tbody tr th:only-of-type {\n",
       "        vertical-align: middle;\n",
       "    }\n",
       "\n",
       "    .dataframe tbody tr th {\n",
       "        vertical-align: top;\n",
       "    }\n",
       "\n",
       "    .dataframe thead th {\n",
       "        text-align: right;\n",
       "    }\n",
       "</style>\n",
       "<table border=\"1\" class=\"dataframe\">\n",
       "  <thead>\n",
       "    <tr style=\"text-align: right;\">\n",
       "      <th></th>\n",
       "      <th>Date</th>\n",
       "      <th>Time</th>\n",
       "      <th>PM2.5</th>\n",
       "      <th>PM2.5 AQI</th>\n",
       "    </tr>\n",
       "  </thead>\n",
       "  <tbody>\n",
       "    <tr>\n",
       "      <th>105019</th>\n",
       "      <td>30-12-2014</td>\n",
       "      <td>8:00 PM</td>\n",
       "      <td>336</td>\n",
       "      <td>378</td>\n",
       "    </tr>\n",
       "    <tr>\n",
       "      <th>105020</th>\n",
       "      <td>30-12-2014</td>\n",
       "      <td>9:00 PM</td>\n",
       "      <td>461</td>\n",
       "      <td>381</td>\n",
       "    </tr>\n",
       "    <tr>\n",
       "      <th>105021</th>\n",
       "      <td>30-12-2014</td>\n",
       "      <td>10:00 PM</td>\n",
       "      <td>417</td>\n",
       "      <td>385</td>\n",
       "    </tr>\n",
       "    <tr>\n",
       "      <th>105022</th>\n",
       "      <td>30-12-2014</td>\n",
       "      <td>11:00 PM</td>\n",
       "      <td>419</td>\n",
       "      <td>384</td>\n",
       "    </tr>\n",
       "    <tr>\n",
       "      <th>105023</th>\n",
       "      <td>30/12/2014 24:00 AM</td>\n",
       "      <td>NaN</td>\n",
       "      <td>475</td>\n",
       "      <td>382</td>\n",
       "    </tr>\n",
       "  </tbody>\n",
       "</table>\n",
       "</div>"
      ],
      "text/plain": [
       "                       Date      Time PM2.5 PM2.5 AQI\n",
       "105019           30-12-2014   8:00 PM   336       378\n",
       "105020           30-12-2014   9:00 PM   461       381\n",
       "105021           30-12-2014  10:00 PM   417       385\n",
       "105022           30-12-2014  11:00 PM   419       384\n",
       "105023  30/12/2014 24:00 AM       NaN   475       382"
      ]
     },
     "execution_count": 44,
     "metadata": {},
     "output_type": "execute_result"
    }
   ],
   "source": [
    "df.tail()"
   ]
  },
  {
   "cell_type": "code",
   "execution_count": 45,
   "metadata": {},
   "outputs": [
    {
     "data": {
      "text/plain": [
       "<bound method DataFrame.info of                        Date      Time  PM2.5 PM2.5 AQI\n",
       "0                  1/1/2013   1:00 AM  324.4       238\n",
       "1                  1/1/2013   2:00 AM  366.8       243\n",
       "2                  1/1/2013   3:00 AM  290.7       250\n",
       "3                  1/1/2013   4:00 AM  245.4       254\n",
       "4                  1/1/2013   5:00 AM  220.3       259\n",
       "...                     ...       ...    ...       ...\n",
       "105019           30-12-2014   8:00 PM    336       378\n",
       "105020           30-12-2014   9:00 PM    461       381\n",
       "105021           30-12-2014  10:00 PM    417       385\n",
       "105022           30-12-2014  11:00 PM    419       384\n",
       "105023  30/12/2014 24:00 AM       NaN    475       382\n",
       "\n",
       "[105024 rows x 4 columns]>"
      ]
     },
     "execution_count": 45,
     "metadata": {},
     "output_type": "execute_result"
    }
   ],
   "source": [
    "df.info"
   ]
  },
  {
   "cell_type": "code",
   "execution_count": 46,
   "metadata": {},
   "outputs": [
    {
     "data": {
      "text/html": [
       "<div>\n",
       "<style scoped>\n",
       "    .dataframe tbody tr th:only-of-type {\n",
       "        vertical-align: middle;\n",
       "    }\n",
       "\n",
       "    .dataframe tbody tr th {\n",
       "        vertical-align: top;\n",
       "    }\n",
       "\n",
       "    .dataframe thead th {\n",
       "        text-align: right;\n",
       "    }\n",
       "</style>\n",
       "<table border=\"1\" class=\"dataframe\">\n",
       "  <thead>\n",
       "    <tr style=\"text-align: right;\">\n",
       "      <th></th>\n",
       "      <th>Date</th>\n",
       "      <th>Time</th>\n",
       "      <th>PM2.5</th>\n",
       "      <th>PM2.5 AQI</th>\n",
       "    </tr>\n",
       "  </thead>\n",
       "  <tbody>\n",
       "    <tr>\n",
       "      <th>count</th>\n",
       "      <td>105024</td>\n",
       "      <td>100650</td>\n",
       "      <td>105024</td>\n",
       "      <td>87504</td>\n",
       "    </tr>\n",
       "    <tr>\n",
       "      <th>unique</th>\n",
       "      <td>3262</td>\n",
       "      <td>24</td>\n",
       "      <td>1254</td>\n",
       "      <td>454</td>\n",
       "    </tr>\n",
       "    <tr>\n",
       "      <th>top</th>\n",
       "      <td>4/1/2013</td>\n",
       "      <td>1:00 AM</td>\n",
       "      <td>NoData</td>\n",
       "      <td>NoData</td>\n",
       "    </tr>\n",
       "    <tr>\n",
       "      <th>freq</th>\n",
       "      <td>69</td>\n",
       "      <td>4376</td>\n",
       "      <td>7698</td>\n",
       "      <td>8542</td>\n",
       "    </tr>\n",
       "  </tbody>\n",
       "</table>\n",
       "</div>"
      ],
      "text/plain": [
       "            Date     Time   PM2.5 PM2.5 AQI\n",
       "count     105024   100650  105024     87504\n",
       "unique      3262       24    1254       454\n",
       "top     4/1/2013  1:00 AM  NoData    NoData\n",
       "freq          69     4376    7698      8542"
      ]
     },
     "execution_count": 46,
     "metadata": {},
     "output_type": "execute_result"
    }
   ],
   "source": [
    "df.describe()"
   ]
  },
  {
   "cell_type": "code",
   "execution_count": 47,
   "metadata": {},
   "outputs": [
    {
     "data": {
      "text/plain": [
       "Date             0\n",
       "Time          4374\n",
       "PM2.5            0\n",
       "PM2.5 AQI    17520\n",
       "dtype: int64"
      ]
     },
     "execution_count": 47,
     "metadata": {},
     "output_type": "execute_result"
    }
   ],
   "source": [
    "df.isnull().sum()"
   ]
  },
  {
   "cell_type": "code",
   "execution_count": 48,
   "metadata": {},
   "outputs": [
    {
     "name": "stderr",
     "output_type": "stream",
     "text": [
      "C:\\Users\\misty\\AppData\\Local\\Temp\\ipykernel_43032\\3435053318.py:11: FutureWarning: Downcasting object dtype arrays on .fillna, .ffill, .bfill is deprecated and will change in a future version. Call result.infer_objects(copy=False) instead. To opt-in to the future behavior, set `pd.set_option('future.no_silent_downcasting', True)`\n",
      "  df.loc[:, 'PM2.5'] = df['PM2.5'].fillna(df['PM2.5'].median())\n",
      "C:\\Users\\misty\\AppData\\Local\\Temp\\ipykernel_43032\\3435053318.py:12: FutureWarning: Downcasting object dtype arrays on .fillna, .ffill, .bfill is deprecated and will change in a future version. Call result.infer_objects(copy=False) instead. To opt-in to the future behavior, set `pd.set_option('future.no_silent_downcasting', True)`\n",
      "  df.loc[:, 'PM2.5 AQI'] = df['PM2.5 AQI'].fillna(df['PM2.5 AQI'].median())\n"
     ]
    }
   ],
   "source": [
    "import pandas as pd\n",
    "\n",
    "# Replace \"NoData\" with NaN\n",
    "df.replace(\"NoData\", pd.NA, inplace=True)\n",
    "\n",
    "# Convert PM2.5 and PM2.5 AQI to numeric\n",
    "df.loc[:, 'PM2.5'] = pd.to_numeric(df['PM2.5'], errors='coerce')\n",
    "df.loc[:, 'PM2.5 AQI'] = pd.to_numeric(df['PM2.5 AQI'], errors='coerce')\n",
    "\n",
    "# Fill missing PM2.5 and PM2.5 AQI values with median\n",
    "df.loc[:, 'PM2.5'] = df['PM2.5'].fillna(df['PM2.5'].median())\n",
    "df.loc[:, 'PM2.5 AQI'] = df['PM2.5 AQI'].fillna(df['PM2.5 AQI'].median())\n",
    "\n",
    "# Forward fill missing Time values\n",
    "df.loc[:, 'Time'] = df['Time'].ffill()\n"
   ]
  },
  {
   "cell_type": "code",
   "execution_count": 49,
   "metadata": {},
   "outputs": [
    {
     "data": {
      "text/plain": [
       "Date         0\n",
       "Time         0\n",
       "PM2.5        0\n",
       "PM2.5 AQI    0\n",
       "dtype: int64"
      ]
     },
     "execution_count": 49,
     "metadata": {},
     "output_type": "execute_result"
    }
   ],
   "source": [
    "df.isnull().sum()"
   ]
  },
  {
   "cell_type": "code",
   "execution_count": 51,
   "metadata": {},
   "outputs": [
    {
     "name": "stdout",
     "output_type": "stream",
     "text": [
      "                           Date      Time  PM2.5 PM2.5 AQI\n",
      "Timestamp                                                 \n",
      "2013-01-01 01:00:00  01-01-2013   1:00 AM  324.4     238.0\n",
      "2013-01-01 02:00:00  01-01-2013   2:00 AM  366.8     243.0\n",
      "2013-01-01 03:00:00  01-01-2013   3:00 AM  290.7     250.0\n",
      "2013-01-01 04:00:00  01-01-2013   4:00 AM  245.4     254.0\n",
      "2013-01-01 05:00:00  01-01-2013   5:00 AM  220.3     259.0\n",
      "2013-01-01 06:00:00  01-01-2013   6:00 AM  180.2     262.0\n",
      "2013-01-01 07:00:00  01-01-2013   7:00 AM  140.0     264.0\n",
      "2013-01-01 08:00:00  01-01-2013   8:00 AM  125.0     265.0\n",
      "2013-01-01 09:00:00  01-01-2013   9:00 AM  111.0     265.0\n",
      "2013-01-01 10:00:00  01-01-2013  10:00 AM  112.0     264.0\n",
      "2013-01-01 11:00:00  01-01-2013  11:00 AM  129.4     263.0\n",
      "2013-01-01 12:00:00  01-01-2013  12:00 PM  184.1     261.0\n",
      "2013-01-01 13:00:00  01-01-2013   1:00 PM  284.8     261.0\n",
      "2013-01-01 14:00:00  01-01-2013   2:00 PM  372.3     263.0\n",
      "2013-01-01 15:00:00  01-01-2013   3:00 PM  456.7     270.0\n",
      "2013-01-01 16:00:00  01-01-2013   4:00 PM  404.8     282.0\n",
      "2013-01-01 17:00:00  01-01-2013   5:00 PM  328.1     290.0\n",
      "2013-01-01 18:00:00  01-01-2013   6:00 PM  274.4     296.0\n",
      "2013-01-01 19:00:00  01-01-2013   7:00 PM  285.0     299.0\n",
      "2013-01-01 20:00:00  01-01-2013   8:00 PM  354.9     500.0\n",
      "2013-01-01 21:00:00  01-01-2013   9:00 PM  395.5     500.0\n",
      "2013-01-01 22:00:00  01-01-2013  10:00 PM  392.7     500.0\n",
      "2013-01-01 23:00:00  01-01-2013  11:00 PM  442.1     500.0\n",
      "2013-01-02 01:00:00  02-01-2013   1:00 AM  391.2     500.0\n",
      "2013-01-02 02:00:00  02-01-2013   2:00 AM  375.1     500.0\n"
     ]
    },
    {
     "name": "stderr",
     "output_type": "stream",
     "text": [
      "C:\\Users\\misty\\AppData\\Local\\Temp\\ipykernel_43032\\2338840072.py:4: SettingWithCopyWarning: \n",
      "A value is trying to be set on a copy of a slice from a DataFrame.\n",
      "Try using .loc[row_indexer,col_indexer] = value instead\n",
      "\n",
      "See the caveats in the documentation: https://pandas.pydata.org/pandas-docs/stable/user_guide/indexing.html#returning-a-view-versus-a-copy\n",
      "  df['Time'] = df['Time'].replace({'24:00 AM': '12:00 AM'})\n",
      "C:\\Users\\misty\\AppData\\Local\\Temp\\ipykernel_43032\\2338840072.py:7: SettingWithCopyWarning: \n",
      "A value is trying to be set on a copy of a slice from a DataFrame.\n",
      "Try using .loc[row_indexer,col_indexer] = value instead\n",
      "\n",
      "See the caveats in the documentation: https://pandas.pydata.org/pandas-docs/stable/user_guide/indexing.html#returning-a-view-versus-a-copy\n",
      "  df['Timestamp'] = pd.to_datetime(df['Date'] + ' ' + df['Time'], format=\"%d-%m-%Y %I:%M %p\", errors='coerce')\n"
     ]
    }
   ],
   "source": [
    "import pandas as pd\n",
    "\n",
    "# Fix invalid 24:00 time\n",
    "df['Time'] = df['Time'].replace({'24:00 AM': '12:00 AM'})  \n",
    "\n",
    "# Convert Date and Time to a single timestamp (with dayfirst=True)\n",
    "df['Timestamp'] = pd.to_datetime(df['Date'] + ' ' + df['Time'], format=\"%d-%m-%Y %I:%M %p\", errors='coerce')\n",
    "\n",
    "# Drop any rows where conversion failed\n",
    "df = df.dropna(subset=['Timestamp'])\n",
    "\n",
    "df.set_index('Timestamp', inplace=True)  # Set Timestamp as index\n",
    "\n",
    "print(df.head(25))  # Verify changes"
   ]
  },
  {
   "cell_type": "code",
   "execution_count": 53,
   "metadata": {},
   "outputs": [],
   "source": [
    "df['Time'] = df['Time'].replace({'24:00 AM': '12:00 AM'})\n",
    "df['Timestamp'] = pd.to_datetime(df['Date'] + ' ' + df['Time'], format=\"%d-%m-%Y %I:%M %p\", errors='coerce')"
   ]
  },
  {
   "cell_type": "code",
   "execution_count": 54,
   "metadata": {},
   "outputs": [
    {
     "name": "stdout",
     "output_type": "stream",
     "text": [
      "<class 'pandas.core.frame.DataFrame'>\n",
      "DatetimeIndex: 49888 entries, 2013-01-01 01:00:00 to 2014-12-30 23:00:00\n",
      "Data columns (total 5 columns):\n",
      " #   Column     Non-Null Count  Dtype         \n",
      "---  ------     --------------  -----         \n",
      " 0   Date       49888 non-null  object        \n",
      " 1   Time       49888 non-null  object        \n",
      " 2   PM2.5      49888 non-null  object        \n",
      " 3   PM2.5 AQI  49888 non-null  object        \n",
      " 4   Timestamp  49888 non-null  datetime64[ns]\n",
      "dtypes: datetime64[ns](1), object(4)\n",
      "memory usage: 2.3+ MB\n",
      "None\n",
      "                           Date     Time  PM2.5 PM2.5 AQI           Timestamp\n",
      "Timestamp                                                                    \n",
      "2013-01-01 01:00:00  01-01-2013  1:00 AM  324.4     238.0 2013-01-01 01:00:00\n",
      "2013-01-01 02:00:00  01-01-2013  2:00 AM  366.8     243.0 2013-01-01 02:00:00\n",
      "2013-01-01 03:00:00  01-01-2013  3:00 AM  290.7     250.0 2013-01-01 03:00:00\n",
      "2013-01-01 04:00:00  01-01-2013  4:00 AM  245.4     254.0 2013-01-01 04:00:00\n",
      "2013-01-01 05:00:00  01-01-2013  5:00 AM  220.3     259.0 2013-01-01 05:00:00\n",
      "Date         0\n",
      "Time         0\n",
      "PM2.5        0\n",
      "PM2.5 AQI    0\n",
      "Timestamp    0\n",
      "dtype: int64\n"
     ]
    }
   ],
   "source": [
    "print(df.info())  # Should show non-zero entries\n",
    "print(df.head())  # Should show actual data\n",
    "print(df.isnull().sum())  # Check if 'Timestamp' is full of NaN"
   ]
  },
  {
   "cell_type": "code",
   "execution_count": 55,
   "metadata": {},
   "outputs": [],
   "source": [
    "df.loc[:, 'PM2.5'] = pd.to_numeric(df['PM2.5'], errors='coerce')\n",
    "df.loc[:, 'PM2.5 AQI'] = pd.to_numeric(df['PM2.5 AQI'], errors='coerce')"
   ]
  },
  {
   "cell_type": "code",
   "execution_count": 56,
   "metadata": {},
   "outputs": [
    {
     "name": "stdout",
     "output_type": "stream",
     "text": [
      "Date                 object\n",
      "Time                 object\n",
      "PM2.5                object\n",
      "PM2.5 AQI            object\n",
      "Timestamp    datetime64[ns]\n",
      "dtype: object\n",
      "          PM2.5  PM2.5 AQI\n",
      "count   49888.0    49888.0\n",
      "unique   1220.0      451.0\n",
      "top        81.0      167.0\n",
      "freq     4054.0    12348.0\n"
     ]
    }
   ],
   "source": [
    "print(df.dtypes)  # PM2.5 should now be float64\n",
    "print(df[['PM2.5', 'PM2.5 AQI']].describe())  # Check for NaNs and value distribution"
   ]
  },
  {
   "cell_type": "code",
   "execution_count": 36,
   "metadata": {},
   "outputs": [],
   "source": [
    "df = df.dropna(subset=['PM2.5'])"
   ]
  },
  {
   "cell_type": "code",
   "execution_count": 37,
   "metadata": {},
   "outputs": [],
   "source": [
    "df['PM2.5'] = pd.to_numeric(df['PM2.5'], errors='coerce')"
   ]
  },
  {
   "cell_type": "code",
   "execution_count": 58,
   "metadata": {},
   "outputs": [
    {
     "name": "stdout",
     "output_type": "stream",
     "text": [
      "Date                 object\n",
      "Time                 object\n",
      "PM2.5                object\n",
      "PM2.5 AQI            object\n",
      "Timestamp    datetime64[ns]\n",
      "dtype: object\n",
      "Date                 object\n",
      "Time                 object\n",
      "PM2.5               float64\n",
      "PM2.5 AQI           float64\n",
      "Timestamp    datetime64[ns]\n",
      "dtype: object\n",
      "              PM2.5     PM2.5 AQI\n",
      "count  49888.000000  49888.000000\n",
      "mean     114.527818    180.063723\n",
      "std      101.054808     77.066213\n",
      "min      -11.000000      0.000000\n",
      "25%       46.000000    150.000000\n",
      "50%       81.000000    167.000000\n",
      "75%      152.000000    192.000000\n",
      "max      981.000000    500.000000\n"
     ]
    }
   ],
   "source": [
    "# Check actual data types\n",
    "print(df.dtypes)\n",
    "\n",
    "# Convert to string first, then strip spaces (only if it's an object column)\n",
    "if df['PM2.5'].dtype == 'object':\n",
    "    df['PM2.5'] = df['PM2.5'].astype(str).str.strip()\n",
    "    df['PM2.5 AQI'] = df['PM2.5 AQI'].astype(str).str.strip()\n",
    "\n",
    "# Convert to numeric, forcing errors to NaN\n",
    "df['PM2.5'] = pd.to_numeric(df['PM2.5'], errors='coerce')\n",
    "df['PM2.5 AQI'] = pd.to_numeric(df['PM2.5 AQI'], errors='coerce')\n",
    "\n",
    "# Check if conversion was successful\n",
    "print(df.dtypes)\n",
    "print(df[['PM2.5', 'PM2.5 AQI']].describe())"
   ]
  },
  {
   "cell_type": "code",
   "execution_count": null,
   "metadata": {},
   "outputs": [
    {
     "name": "stderr",
     "output_type": "stream",
     "text": [
      "C:\\Users\\misty\\AppData\\Local\\Temp\\ipykernel_43032\\28003902.py:33: FutureWarning: \n",
      "\n",
      "Passing `palette` without assigning `hue` is deprecated and will be removed in v0.14.0. Assign the `x` variable to `hue` and set `legend=False` for the same effect.\n",
      "\n",
      "  sns.boxplot(x=df['Month'], y=df['PM2.5'], palette='coolwarm')\n"
     ]
    },
    {
     "name": "stdout",
     "output_type": "stream",
     "text": [
      "Graphs saved in graphs/eda_graphs/\n"
     ]
    }
   ],
   "source": [
    "import os\n",
    "import pandas as pd\n",
    "import matplotlib.pyplot as plt\n",
    "import seaborn as sns\n",
    "\n",
    "\n",
    "# Create directory for saving graphs\n",
    "save_dir = \"static/eda_graphs/\"\n",
    "os.makedirs(save_dir, exist_ok=True)\n",
    "\n",
    "# Plot 1: PM2.5 Distribution\n",
    "plt.figure(figsize=(10, 6))\n",
    "sns.histplot(df['PM2.5'], bins=50, kde=True, color='blue')\n",
    "plt.title('PM2.5 Distribution')\n",
    "plt.xlabel('PM2.5')\n",
    "plt.ylabel('Frequency')\n",
    "plt.savefig(os.path.join(save_dir, \"pm25_distribution.png\"))\n",
    "plt.close()\n",
    "\n",
    "# Plot 2: AQI over Time\n",
    "plt.figure(figsize=(12, 6))\n",
    "plt.plot(df['Timestamp'], df['PM2.5 AQI'], color='red', alpha=0.7)\n",
    "plt.title('PM2.5 AQI Over Time')\n",
    "plt.xlabel('Date')\n",
    "plt.ylabel('PM2.5 AQI')\n",
    "plt.xticks(rotation=45)\n",
    "plt.savefig(os.path.join(save_dir, \"aqi_over_time.png\"))\n",
    "plt.close()\n",
    "\n",
    "# Plot 3: Boxplot of PM2.5 by Month\n",
    "df['Month'] = df['Timestamp'].dt.month\n",
    "plt.figure(figsize=(10, 6))\n",
    "sns.boxplot(x=df['Month'], y=df['PM2.5'], palette='coolwarm')\n",
    "plt.title('Monthly PM2.5 Levels')\n",
    "plt.xlabel('Month')\n",
    "plt.ylabel('PM2.5')\n",
    "plt.savefig(os.path.join(save_dir, \"monthly_pm25_boxplot.png\"))\n",
    "plt.close()\n",
    "\n",
    "# Plot 4: PM2.5 vs. AQI Scatter Plot\n",
    "plt.figure(figsize=(10, 6))\n",
    "sns.scatterplot(x=df['PM2.5'], y=df['PM2.5 AQI'], alpha=0.5)\n",
    "plt.title('PM2.5 vs PM2.5 AQI')\n",
    "plt.xlabel('PM2.5')\n",
    "plt.ylabel('PM2.5 AQI')\n",
    "plt.savefig(os.path.join(save_dir, \"pm25_vs_aqi_scatter.png\"))\n",
    "plt.close()\n",
    "\n",
    "print(f\"Graphs saved in {save_dir}\")\n"
   ]
  },
  {
   "cell_type": "code",
   "execution_count": 63,
   "metadata": {},
   "outputs": [
    {
     "name": "stderr",
     "output_type": "stream",
     "text": [
      "C:\\Users\\misty\\AppData\\Local\\Temp\\ipykernel_43032\\2888658488.py:4: FutureWarning: \n",
      "\n",
      "Passing `palette` without assigning `hue` is deprecated and will be removed in v0.14.0. Assign the `x` variable to `hue` and set `legend=False` for the same effect.\n",
      "\n",
      "  sns.boxplot(x=df['DayOfWeek'], y=df['PM2.5'], palette='viridis', order=[\"Monday\", \"Tuesday\", \"Wednesday\", \"Thursday\", \"Friday\", \"Saturday\", \"Sunday\"])\n",
      "C:\\Users\\misty\\AppData\\Local\\Temp\\ipykernel_43032\\2888658488.py:14: FutureWarning: \n",
      "\n",
      "The `ci` parameter is deprecated. Use `errorbar=None` for the same effect.\n",
      "\n",
      "  sns.lineplot(x=df['Hour'], y=df['PM2.5'], estimator='mean', ci=None, marker='o')\n"
     ]
    }
   ],
   "source": [
    "# Plot 5: PM2.5 Trends by Day of the Week\n",
    "df['DayOfWeek'] = df['Timestamp'].dt.day_name()\n",
    "plt.figure(figsize=(10, 6))\n",
    "sns.boxplot(x=df['DayOfWeek'], y=df['PM2.5'], palette='viridis', order=[\"Monday\", \"Tuesday\", \"Wednesday\", \"Thursday\", \"Friday\", \"Saturday\", \"Sunday\"])\n",
    "plt.title('PM2.5 Levels by Day of the Week')\n",
    "plt.xlabel('Day of the Week')\n",
    "plt.ylabel('PM2.5')\n",
    "plt.savefig(os.path.join(save_dir, \"pm25_by_dayofweek.png\"))\n",
    "plt.close()\n",
    "\n",
    "# Plot 6: Hourly PM2.5 Levels\n",
    "df['Hour'] = df['Timestamp'].dt.hour\n",
    "plt.figure(figsize=(10, 6))\n",
    "sns.lineplot(x=df['Hour'], y=df['PM2.5'], estimator='mean', ci=None, marker='o')\n",
    "plt.title('Average PM2.5 Levels by Hour of the Day')\n",
    "plt.xlabel('Hour of the Day')\n",
    "plt.ylabel('PM2.5')\n",
    "plt.xticks(range(0, 24))\n",
    "plt.savefig(os.path.join(save_dir, \"pm25_by_hour.png\"))\n",
    "plt.close()\n",
    "\n",
    "# Plot 7: Heatmap of Monthly and Hourly PM2.5\n",
    "df_pivot = df.pivot_table(index=df['Hour'], columns=df['Month'], values='PM2.5', aggfunc='mean')\n",
    "plt.figure(figsize=(12, 6))\n",
    "sns.heatmap(df_pivot, cmap='coolwarm', annot=False)\n",
    "plt.title('Heatmap of PM2.5 Levels (Hour vs Month)')\n",
    "plt.xlabel('Month')\n",
    "plt.ylabel('Hour of the Day')\n",
    "plt.savefig(os.path.join(save_dir, \"pm25_heatmap.png\"))\n",
    "plt.close()"
   ]
  },
  {
   "cell_type": "code",
   "execution_count": null,
   "metadata": {},
   "outputs": [],
   "source": []
  }
 ],
 "metadata": {
  "kernelspec": {
   "display_name": "venv",
   "language": "python",
   "name": "python3"
  },
  "language_info": {
   "codemirror_mode": {
    "name": "ipython",
    "version": 3
   },
   "file_extension": ".py",
   "mimetype": "text/x-python",
   "name": "python",
   "nbconvert_exporter": "python",
   "pygments_lexer": "ipython3",
   "version": "3.12.4"
  }
 },
 "nbformat": 4,
 "nbformat_minor": 2
}
